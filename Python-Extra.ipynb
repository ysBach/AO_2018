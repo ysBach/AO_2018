{
 "cells": [
  {
   "cell_type": "markdown",
   "metadata": {},
   "source": [
    "This note will contain simple code snippets which is used during the TA extra session, 2018-04-02 from 19:00 to 21:00.\n",
    "\n",
    "What we've done:\n",
    "* Installation of Anaconda3 on Ubuntu (PC Room)\n",
    "* Installation of IRAF/PyRAF on that computer\n",
    "* While IRAF/PyRAF installation is going on, try spyder and basic python.\n",
    "  * Useful references are\n",
    "    * [Think Python](http://greenteapress.com/wp/think-python/) ch 1-3, 5-8, 10-12. (15-17 are optional)\n",
    "    * [SciPy Lecture Note](https://www.scipy-lectures.org/index.html) section 1.2.1-4, 1.3.1-4, 1.4.1-2 (1.4.3-7 are optional), 1.5.2, 1.5.5\n",
    "* Run PyRAF and test it with sample FITS files provided by the TA.\n"
   ]
  },
  {
   "cell_type": "code",
   "execution_count": 7,
   "metadata": {},
   "outputs": [],
   "source": [
    "import numpy as np\n",
    "from pathlib import Path\n",
    "# pathlib is introduced in Python 3.6. If you are using earlier python version, try ``import os``."
   ]
  },
  {
   "cell_type": "code",
   "execution_count": 8,
   "metadata": {},
   "outputs": [
    {
     "name": "stdout",
     "output_type": "stream",
     "text": [
      "Hello World!\n"
     ]
    }
   ],
   "source": [
    "print(\"Hello World!\")"
   ]
  },
  {
   "cell_type": "markdown",
   "metadata": {},
   "source": [
    "The following block was used to introduce the UI of spyder, not to introduce ``numpy``."
   ]
  },
  {
   "cell_type": "code",
   "execution_count": 11,
   "metadata": {},
   "outputs": [],
   "source": [
    "import numpy as np\n",
    "\n",
    "#%%\n",
    "data = np.random.rand(100)\n",
    "data2 = 2*data + 3\n",
    "\n",
    "#%%\n",
    "data3 = data**2\n",
    "data_2D = np.random.rand(100,100)"
   ]
  },
  {
   "cell_type": "code",
   "execution_count": 12,
   "metadata": {},
   "outputs": [
    {
     "name": "stdout",
     "output_type": "stream",
     "text": [
      "1.0\n",
      "1\n",
      "abc\n",
      "I'm the TA\n"
     ]
    }
   ],
   "source": [
    "var_1 = 1.0   # float object\n",
    "var_2 = 1     # int object\n",
    "var_3 = \"abc\" # str object\n",
    "\n",
    "print(var_1)\n",
    "print(var_2)\n",
    "print(var_3)\n",
    "\n",
    "# in python, ' and \" are interchangable. Use the appropriate one.\n",
    "print(\"I'm the TA\") "
   ]
  },
  {
   "cell_type": "code",
   "execution_count": 14,
   "metadata": {},
   "outputs": [
    {
     "data": {
      "text/plain": [
       "'\\nThis is a multi-line comment block\\nmulti\\n    line\\n        comment\\n/*  */\\n'"
      ]
     },
     "execution_count": 14,
     "metadata": {},
     "output_type": "execute_result"
    }
   ],
   "source": [
    "\"\"\"\n",
    "This is a multi-line comment block\n",
    "multi\n",
    "    line\n",
    "        comment\n",
    "/*  */\n",
    "\"\"\""
   ]
  },
  {
   "cell_type": "code",
   "execution_count": 15,
   "metadata": {},
   "outputs": [
    {
     "name": "stdout",
     "output_type": "stream",
     "text": [
      "1.5\n",
      "1\n",
      "1 3\n"
     ]
    }
   ],
   "source": [
    "print( 9/6  ) # python 2 would have given 1, which is int, not 1.5.\n",
    "print( 9//6 )\n",
    "# 9 / 6 = 1 ... 3 (quotient and remainder)\n",
    "print( 9//6, 9%6)"
   ]
  },
  {
   "cell_type": "code",
   "execution_count": 17,
   "metadata": {},
   "outputs": [
    {
     "name": "stdout",
     "output_type": "stream",
     "text": [
      "abcabcabc\n",
      "def ghi\n"
     ]
    }
   ],
   "source": [
    "print(\"abc\" * 3) # end = '\\n' is default\n",
    "print(\"def\", end=' ')\n",
    "print(\"ghi\", end='\\n')"
   ]
  },
  {
   "cell_type": "code",
   "execution_count": 18,
   "metadata": {},
   "outputs": [
    {
     "name": "stdout",
     "output_type": "stream",
     "text": [
      "['James', 'John', 'etc', 1]\n",
      "James\n",
      "1\n",
      "['John', 'etc']\n",
      "['John', 'etc', 1]\n",
      "['James', 'John', 'etc']\n",
      "['James', 'John', 'etc', 1, 'James', 'John', 'etc', 1]\n",
      "['John', 1, 'John']\n"
     ]
    }
   ],
   "source": [
    "list_a = [\"James\", \"John\", \"etc\", 1]\n",
    "print(list_a)\n",
    "print(list_a[0]) # python indexing starts from 0\n",
    "print(list_a[-1])\n",
    "print(list_a[1:3])\n",
    "print(list_a[1:])\n",
    "print(list_a[:-1])\n",
    "\n",
    "list_b = 2 * list_a\n",
    "print(list_b)\n",
    "print(list_b[1:-1:2])\n",
    "# list_b[starting:ending:step]"
   ]
  },
  {
   "cell_type": "code",
   "execution_count": 19,
   "metadata": {},
   "outputs": [
    {
     "name": "stdout",
     "output_type": "stream",
     "text": [
      "['James', 'John', 'etc', 1, 'Amy']\n"
     ]
    }
   ],
   "source": [
    "list_a.append(\"Amy\")\n",
    "print(list_a)"
   ]
  },
  {
   "cell_type": "code",
   "execution_count": 20,
   "metadata": {},
   "outputs": [
    {
     "name": "stdout",
     "output_type": "stream",
     "text": [
      "<class 'float'>\n",
      "<class 'int'>\n",
      "<class 'str'>\n",
      "<class 'list'>\n"
     ]
    }
   ],
   "source": [
    "print(type(var_1))\n",
    "print(type(var_2))\n",
    "print(type(var_3))\n",
    "print(type(list_a))"
   ]
  },
  {
   "cell_type": "markdown",
   "metadata": {},
   "source": [
    "I will skip ``tuple`` and ``dict`` (dictionary). They are useful but I can't spend much time on this very simple grammar of python. If you are interested in, please find references such as Think Python."
   ]
  },
  {
   "cell_type": "code",
   "execution_count": 21,
   "metadata": {},
   "outputs": [
    {
     "name": "stdout",
     "output_type": "stream",
     "text": [
      "Oh x != 10 and x != 11\n"
     ]
    }
   ],
   "source": [
    "# conditionals\n",
    "x = 12\n",
    "if x == 10:\n",
    "    print(\"Oh x == 10\")\n",
    "elif x == 11:\n",
    "    print(\"Oh x == 11\")\n",
    "else:\n",
    "    print(\"Oh x != 10 and x != 11\")"
   ]
  },
  {
   "cell_type": "code",
   "execution_count": 22,
   "metadata": {},
   "outputs": [
    {
     "name": "stdout",
     "output_type": "stream",
     "text": [
      "1\n",
      "2\n",
      "3\n",
      "5\n",
      "6\n",
      "7\n"
     ]
    }
   ],
   "source": [
    "# for loop\n",
    "\n",
    "for i in range(3):\n",
    "    print(i + 1)\n",
    "\n",
    "for i in range(4, 7):\n",
    "    print(i + 1)"
   ]
  },
  {
   "cell_type": "code",
   "execution_count": 23,
   "metadata": {},
   "outputs": [
    {
     "name": "stdout",
     "output_type": "stream",
     "text": [
      "[0, 1, 2, 3, 4, 5, 6, 7, 8, 9]\n"
     ]
    }
   ],
   "source": [
    "list_c =[]\n",
    "\n",
    "for x in range(10):\n",
    "    list_c.append(x)\n",
    "\n",
    "print(list_c)"
   ]
  },
  {
   "cell_type": "code",
   "execution_count": 24,
   "metadata": {},
   "outputs": [],
   "source": [
    "# this works only if you have python 3.6+\n",
    "from pathlib import Path\n",
    "\n",
    "top = Path('Downloads', 'HR30')\n",
    "files = list(top.glob('**/*.fits'))\n",
    "\n",
    "for f in files:\n",
    "    print(f)"
   ]
  },
  {
   "cell_type": "code",
   "execution_count": 25,
   "metadata": {},
   "outputs": [
    {
     "name": "stdout",
     "output_type": "stream",
     "text": [
      "10 * 3 is 30\n",
      "10 * 3 is 030\n",
      "10 * 3 is 30\n"
     ]
    }
   ],
   "source": [
    "# formatted string\n",
    "x = 3\n",
    "y = 10*x\n",
    "\n",
    "# If you want to print\n",
    "#    10 * 3 is 30\n",
    "print(\"10 * %d is %d\" % (x, y))\n",
    "print(\"10 * {:d} is {:03d}\".format(x, y))\n",
    "print(f\"10 * {x} is {y}\")"
   ]
  },
  {
   "cell_type": "code",
   "execution_count": null,
   "metadata": {},
   "outputs": [],
   "source": []
  }
 ],
 "metadata": {
  "kernelspec": {
   "display_name": "Python 3",
   "language": "python",
   "name": "python3"
  },
  "language_info": {
   "codemirror_mode": {
    "name": "ipython",
    "version": 3
   },
   "file_extension": ".py",
   "mimetype": "text/x-python",
   "name": "python",
   "nbconvert_exporter": "python",
   "pygments_lexer": "ipython3",
   "version": "3.6.5"
  }
 },
 "nbformat": 4,
 "nbformat_minor": 2
}
